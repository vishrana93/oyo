{
 "cells": [
  {
   "cell_type": "code",
   "execution_count": 32,
   "metadata": {},
   "outputs": [],
   "source": [
    "# Data Analysis\n",
    "\n",
    "import numpy as np\n",
    "import pandas as pd\n",
    "from pandas import datetime\n",
    "\n",
    "# Data Visualisation\n",
    "\n",
    "import seaborn as sns\n",
    "from matplotlib import pyplot\n",
    "import matplotlib.pyplot as plt\n",
    "\n",
    "# Data Prediction\n",
    "from sklearn.metrics import mean_squared_error\n",
    "from sklearn.model_selection import GridSearchCV\n",
    "from sklearn.metrics import r2_score\n",
    "from sklearn import preprocessing\n",
    "import xgboost as xgb\n",
    "from sklearn.model_selection import cross_val_score\n",
    "from sklearn.model_selection import KFold\n",
    "from sklearn.model_selection import train_test_split, cross_val_score, StratifiedKFold\n",
    "from statsmodels.tsa.arima_model import ARIMA, ARMA, AR\n",
    "from statsmodels.tsa.vector_ar.var_model import VAR\n",
    "\n",
    "# Ignore warnings\n",
    "import warnings\n",
    "warnings.filterwarnings(\"ignore\")"
   ]
  },
  {
   "cell_type": "code",
   "execution_count": 2,
   "metadata": {},
   "outputs": [
    {
     "data": {
      "text/html": [
       "<div>\n",
       "<style scoped>\n",
       "    .dataframe tbody tr th:only-of-type {\n",
       "        vertical-align: middle;\n",
       "    }\n",
       "\n",
       "    .dataframe tbody tr th {\n",
       "        vertical-align: top;\n",
       "    }\n",
       "\n",
       "    .dataframe thead th {\n",
       "        text-align: right;\n",
       "    }\n",
       "</style>\n",
       "<table border=\"1\" class=\"dataframe\">\n",
       "  <thead>\n",
       "    <tr style=\"text-align: right;\">\n",
       "      <th></th>\n",
       "      <th>house_pk</th>\n",
       "      <th>agency_id</th>\n",
       "      <th>date_in</th>\n",
       "      <th>price</th>\n",
       "      <th>dis_water_real</th>\n",
       "      <th>dis_shopping</th>\n",
       "      <th>no_bedrooms</th>\n",
       "      <th>max_persons</th>\n",
       "      <th>house_size</th>\n",
       "      <th>land_size</th>\n",
       "      <th>build_year</th>\n",
       "      <th>renovation_year</th>\n",
       "      <th>apartment</th>\n",
       "      <th>indoor_pool</th>\n",
       "      <th>spa</th>\n",
       "      <th>internet</th>\n",
       "      <th>pets_allowed</th>\n",
       "      <th>water_view</th>\n",
       "      <th>fire_stove</th>\n",
       "      <th>agency_rating</th>\n",
       "    </tr>\n",
       "  </thead>\n",
       "  <tbody>\n",
       "    <tr>\n",
       "      <th>0</th>\n",
       "      <td>84561</td>\n",
       "      <td>90</td>\n",
       "      <td>2016-08-27</td>\n",
       "      <td>532</td>\n",
       "      <td>0.261</td>\n",
       "      <td>3.0</td>\n",
       "      <td>3</td>\n",
       "      <td>4</td>\n",
       "      <td>140</td>\n",
       "      <td>726</td>\n",
       "      <td>1953</td>\n",
       "      <td>2014</td>\n",
       "      <td>0</td>\n",
       "      <td>0</td>\n",
       "      <td>1</td>\n",
       "      <td>1</td>\n",
       "      <td>0</td>\n",
       "      <td>1</td>\n",
       "      <td>1</td>\n",
       "      <td>3.0</td>\n",
       "    </tr>\n",
       "    <tr>\n",
       "      <th>1</th>\n",
       "      <td>84561</td>\n",
       "      <td>90</td>\n",
       "      <td>2016-08-26</td>\n",
       "      <td>588</td>\n",
       "      <td>0.261</td>\n",
       "      <td>3.0</td>\n",
       "      <td>3</td>\n",
       "      <td>4</td>\n",
       "      <td>140</td>\n",
       "      <td>726</td>\n",
       "      <td>1953</td>\n",
       "      <td>2014</td>\n",
       "      <td>0</td>\n",
       "      <td>0</td>\n",
       "      <td>1</td>\n",
       "      <td>1</td>\n",
       "      <td>0</td>\n",
       "      <td>1</td>\n",
       "      <td>1</td>\n",
       "      <td>3.0</td>\n",
       "    </tr>\n",
       "    <tr>\n",
       "      <th>2</th>\n",
       "      <td>84561</td>\n",
       "      <td>90</td>\n",
       "      <td>2016-08-25</td>\n",
       "      <td>588</td>\n",
       "      <td>0.261</td>\n",
       "      <td>3.0</td>\n",
       "      <td>3</td>\n",
       "      <td>4</td>\n",
       "      <td>140</td>\n",
       "      <td>726</td>\n",
       "      <td>1953</td>\n",
       "      <td>2014</td>\n",
       "      <td>0</td>\n",
       "      <td>0</td>\n",
       "      <td>1</td>\n",
       "      <td>1</td>\n",
       "      <td>0</td>\n",
       "      <td>1</td>\n",
       "      <td>1</td>\n",
       "      <td>3.0</td>\n",
       "    </tr>\n",
       "    <tr>\n",
       "      <th>3</th>\n",
       "      <td>84561</td>\n",
       "      <td>90</td>\n",
       "      <td>2016-08-24</td>\n",
       "      <td>588</td>\n",
       "      <td>0.261</td>\n",
       "      <td>3.0</td>\n",
       "      <td>3</td>\n",
       "      <td>4</td>\n",
       "      <td>140</td>\n",
       "      <td>726</td>\n",
       "      <td>1953</td>\n",
       "      <td>2014</td>\n",
       "      <td>0</td>\n",
       "      <td>0</td>\n",
       "      <td>1</td>\n",
       "      <td>1</td>\n",
       "      <td>0</td>\n",
       "      <td>1</td>\n",
       "      <td>1</td>\n",
       "      <td>3.0</td>\n",
       "    </tr>\n",
       "    <tr>\n",
       "      <th>4</th>\n",
       "      <td>84561</td>\n",
       "      <td>90</td>\n",
       "      <td>2016-08-23</td>\n",
       "      <td>588</td>\n",
       "      <td>0.261</td>\n",
       "      <td>3.0</td>\n",
       "      <td>3</td>\n",
       "      <td>4</td>\n",
       "      <td>140</td>\n",
       "      <td>726</td>\n",
       "      <td>1953</td>\n",
       "      <td>2014</td>\n",
       "      <td>0</td>\n",
       "      <td>0</td>\n",
       "      <td>1</td>\n",
       "      <td>1</td>\n",
       "      <td>0</td>\n",
       "      <td>1</td>\n",
       "      <td>1</td>\n",
       "      <td>3.0</td>\n",
       "    </tr>\n",
       "    <tr>\n",
       "      <th>5</th>\n",
       "      <td>84561</td>\n",
       "      <td>90</td>\n",
       "      <td>2016-08-22</td>\n",
       "      <td>588</td>\n",
       "      <td>0.261</td>\n",
       "      <td>3.0</td>\n",
       "      <td>3</td>\n",
       "      <td>4</td>\n",
       "      <td>140</td>\n",
       "      <td>726</td>\n",
       "      <td>1953</td>\n",
       "      <td>2014</td>\n",
       "      <td>0</td>\n",
       "      <td>0</td>\n",
       "      <td>1</td>\n",
       "      <td>1</td>\n",
       "      <td>0</td>\n",
       "      <td>1</td>\n",
       "      <td>1</td>\n",
       "      <td>3.0</td>\n",
       "    </tr>\n",
       "    <tr>\n",
       "      <th>6</th>\n",
       "      <td>84561</td>\n",
       "      <td>90</td>\n",
       "      <td>2016-08-21</td>\n",
       "      <td>588</td>\n",
       "      <td>0.261</td>\n",
       "      <td>3.0</td>\n",
       "      <td>3</td>\n",
       "      <td>4</td>\n",
       "      <td>140</td>\n",
       "      <td>726</td>\n",
       "      <td>1953</td>\n",
       "      <td>2014</td>\n",
       "      <td>0</td>\n",
       "      <td>0</td>\n",
       "      <td>1</td>\n",
       "      <td>1</td>\n",
       "      <td>0</td>\n",
       "      <td>1</td>\n",
       "      <td>1</td>\n",
       "      <td>3.0</td>\n",
       "    </tr>\n",
       "    <tr>\n",
       "      <th>7</th>\n",
       "      <td>84561</td>\n",
       "      <td>90</td>\n",
       "      <td>2016-08-20</td>\n",
       "      <td>588</td>\n",
       "      <td>0.261</td>\n",
       "      <td>3.0</td>\n",
       "      <td>3</td>\n",
       "      <td>4</td>\n",
       "      <td>140</td>\n",
       "      <td>726</td>\n",
       "      <td>1953</td>\n",
       "      <td>2014</td>\n",
       "      <td>0</td>\n",
       "      <td>0</td>\n",
       "      <td>1</td>\n",
       "      <td>1</td>\n",
       "      <td>0</td>\n",
       "      <td>1</td>\n",
       "      <td>1</td>\n",
       "      <td>3.0</td>\n",
       "    </tr>\n",
       "    <tr>\n",
       "      <th>8</th>\n",
       "      <td>84561</td>\n",
       "      <td>90</td>\n",
       "      <td>2016-08-19</td>\n",
       "      <td>672</td>\n",
       "      <td>0.261</td>\n",
       "      <td>3.0</td>\n",
       "      <td>3</td>\n",
       "      <td>4</td>\n",
       "      <td>140</td>\n",
       "      <td>726</td>\n",
       "      <td>1953</td>\n",
       "      <td>2014</td>\n",
       "      <td>0</td>\n",
       "      <td>0</td>\n",
       "      <td>1</td>\n",
       "      <td>1</td>\n",
       "      <td>0</td>\n",
       "      <td>1</td>\n",
       "      <td>1</td>\n",
       "      <td>3.0</td>\n",
       "    </tr>\n",
       "    <tr>\n",
       "      <th>9</th>\n",
       "      <td>84561</td>\n",
       "      <td>90</td>\n",
       "      <td>2016-08-18</td>\n",
       "      <td>672</td>\n",
       "      <td>0.261</td>\n",
       "      <td>3.0</td>\n",
       "      <td>3</td>\n",
       "      <td>4</td>\n",
       "      <td>140</td>\n",
       "      <td>726</td>\n",
       "      <td>1953</td>\n",
       "      <td>2014</td>\n",
       "      <td>0</td>\n",
       "      <td>0</td>\n",
       "      <td>1</td>\n",
       "      <td>1</td>\n",
       "      <td>0</td>\n",
       "      <td>1</td>\n",
       "      <td>1</td>\n",
       "      <td>3.0</td>\n",
       "    </tr>\n",
       "  </tbody>\n",
       "</table>\n",
       "</div>"
      ],
      "text/plain": [
       "   house_pk  agency_id     date_in  price  dis_water_real  dis_shopping  \\\n",
       "0     84561         90  2016-08-27    532           0.261           3.0   \n",
       "1     84561         90  2016-08-26    588           0.261           3.0   \n",
       "2     84561         90  2016-08-25    588           0.261           3.0   \n",
       "3     84561         90  2016-08-24    588           0.261           3.0   \n",
       "4     84561         90  2016-08-23    588           0.261           3.0   \n",
       "5     84561         90  2016-08-22    588           0.261           3.0   \n",
       "6     84561         90  2016-08-21    588           0.261           3.0   \n",
       "7     84561         90  2016-08-20    588           0.261           3.0   \n",
       "8     84561         90  2016-08-19    672           0.261           3.0   \n",
       "9     84561         90  2016-08-18    672           0.261           3.0   \n",
       "\n",
       "   no_bedrooms  max_persons  house_size  land_size  build_year  \\\n",
       "0            3            4         140        726        1953   \n",
       "1            3            4         140        726        1953   \n",
       "2            3            4         140        726        1953   \n",
       "3            3            4         140        726        1953   \n",
       "4            3            4         140        726        1953   \n",
       "5            3            4         140        726        1953   \n",
       "6            3            4         140        726        1953   \n",
       "7            3            4         140        726        1953   \n",
       "8            3            4         140        726        1953   \n",
       "9            3            4         140        726        1953   \n",
       "\n",
       "   renovation_year  apartment  indoor_pool  spa  internet  pets_allowed  \\\n",
       "0             2014          0            0    1         1             0   \n",
       "1             2014          0            0    1         1             0   \n",
       "2             2014          0            0    1         1             0   \n",
       "3             2014          0            0    1         1             0   \n",
       "4             2014          0            0    1         1             0   \n",
       "5             2014          0            0    1         1             0   \n",
       "6             2014          0            0    1         1             0   \n",
       "7             2014          0            0    1         1             0   \n",
       "8             2014          0            0    1         1             0   \n",
       "9             2014          0            0    1         1             0   \n",
       "\n",
       "   water_view  fire_stove  agency_rating  \n",
       "0           1           1            3.0  \n",
       "1           1           1            3.0  \n",
       "2           1           1            3.0  \n",
       "3           1           1            3.0  \n",
       "4           1           1            3.0  \n",
       "5           1           1            3.0  \n",
       "6           1           1            3.0  \n",
       "7           1           1            3.0  \n",
       "8           1           1            3.0  \n",
       "9           1           1            3.0  "
      ]
     },
     "execution_count": 2,
     "metadata": {},
     "output_type": "execute_result"
    }
   ],
   "source": [
    "# Data Extraction\n",
    "\n",
    "df = pd.read_csv('data.csv')\n",
    "df.head(10)"
   ]
  },
  {
   "cell_type": "code",
   "execution_count": 48,
   "metadata": {},
   "outputs": [
    {
     "name": "stdout",
     "output_type": "stream",
     "text": [
      "(85195, 28)\n"
     ]
    },
    {
     "data": {
      "text/plain": [
       "house_pk             int64\n",
       "agency_id            int64\n",
       "price                int64\n",
       "dis_water_real     float64\n",
       "dis_shopping       float64\n",
       "no_bedrooms          int64\n",
       "max_persons          int64\n",
       "house_size           int64\n",
       "land_size            int64\n",
       "build_year           int64\n",
       "renovation_year      int64\n",
       "apartment            int64\n",
       "indoor_pool          int64\n",
       "spa                  int64\n",
       "internet             int64\n",
       "pets_allowed         int64\n",
       "water_view           int64\n",
       "fire_stove           int64\n",
       "agency_rating      float64\n",
       "priceLog           float64\n",
       "Year                 int64\n",
       "Month                int64\n",
       "Day                  int64\n",
       "WeekOfYear           int64\n",
       "RenovationDiffn      int64\n",
       "PeopleInRoom       float64\n",
       "day_of_week         object\n",
       "day_week             int64\n",
       "dtype: object"
      ]
     },
     "execution_count": 48,
     "metadata": {},
     "output_type": "execute_result"
    }
   ],
   "source": [
    "print(df.shape)\n",
    "#check the dtypes\n",
    "df.dtypes"
   ]
  },
  {
   "cell_type": "code",
   "execution_count": 4,
   "metadata": {},
   "outputs": [],
   "source": [
    "df['date_in'] = pd.to_datetime(df['date_in'])\n",
    "df = df.set_index('date_in')"
   ]
  },
  {
   "cell_type": "code",
   "execution_count": 5,
   "metadata": {},
   "outputs": [
    {
     "data": {
      "text/html": [
       "<div>\n",
       "<style scoped>\n",
       "    .dataframe tbody tr th:only-of-type {\n",
       "        vertical-align: middle;\n",
       "    }\n",
       "\n",
       "    .dataframe tbody tr th {\n",
       "        vertical-align: top;\n",
       "    }\n",
       "\n",
       "    .dataframe thead th {\n",
       "        text-align: right;\n",
       "    }\n",
       "</style>\n",
       "<table border=\"1\" class=\"dataframe\">\n",
       "  <thead>\n",
       "    <tr style=\"text-align: right;\">\n",
       "      <th></th>\n",
       "      <th>Total</th>\n",
       "      <th>Null_Count</th>\n",
       "      <th>Percent</th>\n",
       "    </tr>\n",
       "  </thead>\n",
       "  <tbody>\n",
       "  </tbody>\n",
       "</table>\n",
       "</div>"
      ],
      "text/plain": [
       "Empty DataFrame\n",
       "Columns: [Total, Null_Count, Percent]\n",
       "Index: []"
      ]
     },
     "execution_count": 5,
     "metadata": {},
     "output_type": "execute_result"
    }
   ],
   "source": [
    "# Missing Values\n",
    "\n",
    "## Null Counting Fucntion\n",
    "def null_values(df):\n",
    "    \n",
    "    sum_null = df.isnull().sum()\n",
    "    total = df.isnull().count()\n",
    "    percent_nullvalues = 100* sum_null / total \n",
    "    df_null = pd.DataFrame()\n",
    "    df_null['Total'] = total\n",
    "    df_null['Null_Count'] = sum_null\n",
    "    df_null['Percent'] = round(percent_nullvalues,2)\n",
    "    df_null = df_null.sort_values(by='Null_Count',ascending = False)\n",
    "    df_null = df_null[df_null.Null_Count > 0]\n",
    "    \n",
    "    return(df_null)\n",
    "\n",
    "null_values(df)"
   ]
  },
  {
   "cell_type": "code",
   "execution_count": 6,
   "metadata": {},
   "outputs": [
    {
     "data": {
      "text/plain": [
       "price    1.0\n",
       "Name: price, dtype: float64"
      ]
     },
     "execution_count": 6,
     "metadata": {},
     "output_type": "execute_result"
    }
   ],
   "source": [
    "corr = df.corr().abs()\n",
    "corr.price[corr.price >= 0.5].sort_values(ascending=False)"
   ]
  },
  {
   "cell_type": "code",
   "execution_count": 50,
   "metadata": {},
   "outputs": [
    {
     "data": {
      "text/plain": [
       "count    85195.000000\n",
       "mean       560.170879\n",
       "std        312.439706\n",
       "min         28.000000\n",
       "25%        336.000000\n",
       "50%        455.000000\n",
       "75%        700.000000\n",
       "max       2688.000000\n",
       "Name: price, dtype: float64"
      ]
     },
     "execution_count": 50,
     "metadata": {},
     "output_type": "execute_result"
    }
   ],
   "source": [
    "df['price'].describe()"
   ]
  },
  {
   "cell_type": "code",
   "execution_count": 51,
   "metadata": {},
   "outputs": [
    {
     "data": {
      "text/plain": [
       "455.0"
      ]
     },
     "execution_count": 51,
     "metadata": {},
     "output_type": "execute_result"
    }
   ],
   "source": [
    "df['price'].median()"
   ]
  },
  {
   "cell_type": "code",
   "execution_count": 7,
   "metadata": {},
   "outputs": [
    {
     "data": {
      "text/plain": [
       "Text(0.5,1,'Price')"
      ]
     },
     "execution_count": 7,
     "metadata": {},
     "output_type": "execute_result"
    },
    {
     "data": {
      "image/png": "[encoded data removed]",
      "text/plain": [
       "<Figure size 432x288 with 1 Axes>"
      ]
     },
     "metadata": {},
     "output_type": "display_data"
    }
   ],
   "source": [
    "# If the mean > median that means the data is right skewed\n",
    "# By log tranformation, right skewed distribution can be a normal form\n",
    "\n",
    "\n",
    "# Distribution plot of Price\n",
    "plt.subplot2grid((2,1),(0,0))\n",
    "df.price.plot(kind='kde')\n",
    "plt.title('Price')"
   ]
  },
  {
   "cell_type": "code",
   "execution_count": 8,
   "metadata": {},
   "outputs": [
    {
     "data": {
      "text/plain": [
       "Text(0.5,1,'LogPrice')"
      ]
     },
     "execution_count": 8,
     "metadata": {},
     "output_type": "execute_result"
    },
    {
     "data": {
      "image/png": "[encoded data removed]",
      "text/plain": [
       "<Figure size 432x288 with 1 Axes>"
      ]
     },
     "metadata": {},
     "output_type": "display_data"
    }
   ],
   "source": [
    "# Addind feature log price\n",
    "df['priceLog'] = np.log(df.price)\n",
    "\n",
    "# Distribution Plot for log price \n",
    "plt.subplot2grid((2,1),(0,0))\n",
    "df.priceLog.plot(kind='kde')\n",
    "plt.title('LogPrice')"
   ]
  },
  {
   "cell_type": "code",
   "execution_count": 37,
   "metadata": {},
   "outputs": [],
   "source": [
    "# Feature extraction\n",
    "\n",
    "\n",
    "df['Year'] = df.index.year\n",
    "df['Month'] = df.index.month\n",
    "df['Day'] = df.index.day\n",
    "df['WeekOfYear'] = df.index.weekofyear\n",
    "df['RenovationDiffn'] = df['renovation_year'] - df['build_year'] \n",
    "df['PeopleInRoom'] = df['max_persons']/df['no_bedrooms'] \n",
    "df['day_of_week'] = df.index.day_name()\n",
    "df['day_week'] = df.index.dayofweek"
   ]
  },
  {
   "cell_type": "code",
   "execution_count": 11,
   "metadata": {},
   "outputs": [
    {
     "data": {
      "text/plain": [
       "<matplotlib.axes._subplots.AxesSubplot at 0x1210617f0>"
      ]
     },
     "execution_count": 11,
     "metadata": {},
     "output_type": "execute_result"
    },
    {
     "data": {
      "image/png": "[encoded data removed]",
      "text/plain": [
       "<Figure size 936x288 with 1 Axes>"
      ]
     },
     "metadata": {},
     "output_type": "display_data"
    }
   ],
   "source": [
    "# Plotting Graphs to see the realtionship between features and price\n",
    "df.groupby('Month')['price'].median().plot(kind='bar',figsize=(13,4))\n"
   ]
  },
  {
   "cell_type": "code",
   "execution_count": 12,
   "metadata": {},
   "outputs": [
    {
     "data": {
      "text/plain": [
       "<matplotlib.axes._subplots.AxesSubplot at 0x1383670f0>"
      ]
     },
     "execution_count": 12,
     "metadata": {},
     "output_type": "execute_result"
    },
    {
     "data": {
      "image/png": "[encoded data removed]",
      "text/plain": [
       "<Figure size 936x288 with 1 Axes>"
      ]
     },
     "metadata": {},
     "output_type": "display_data"
    }
   ],
   "source": [
    "df.groupby('Day')['price'].median().plot(kind='bar',figsize=(13,4))"
   ]
  },
  {
   "cell_type": "code",
   "execution_count": 13,
   "metadata": {},
   "outputs": [
    {
     "data": {
      "text/plain": [
       "<matplotlib.axes._subplots.AxesSubplot at 0x1384471d0>"
      ]
     },
     "execution_count": 13,
     "metadata": {},
     "output_type": "execute_result"
    },
    {
     "data": {
      "image/png": "[encoded data removed]",
      "text/plain": [
       "<Figure size 936x288 with 1 Axes>"
      ]
     },
     "metadata": {},
     "output_type": "display_data"
    }
   ],
   "source": [
    "df.groupby('day_of_week')['price'].median().plot(kind='bar',figsize=(13,4))\n"
   ]
  },
  {
   "cell_type": "code",
   "execution_count": 14,
   "metadata": {},
   "outputs": [
    {
     "data": {
      "text/plain": [
       "<matplotlib.axes._subplots.AxesSubplot at 0x1384a8a20>"
      ]
     },
     "execution_count": 14,
     "metadata": {},
     "output_type": "execute_result"
    },
    {
     "data": {
      "image/png": "[encoded data removed]",
      "text/plain": [
       "<Figure size 936x288 with 1 Axes>"
      ]
     },
     "metadata": {},
     "output_type": "display_data"
    }
   ],
   "source": [
    "df.groupby('no_bedrooms')['price'].median().plot(kind='bar',figsize=(13,4))"
   ]
  },
  {
   "cell_type": "code",
   "execution_count": 15,
   "metadata": {},
   "outputs": [
    {
     "data": {
      "text/plain": [
       "<matplotlib.axes._subplots.AxesSubplot at 0x1385096a0>"
      ]
     },
     "execution_count": 15,
     "metadata": {},
     "output_type": "execute_result"
    },
    {
     "data": {
      "image/png": "[encoded data removed]",
      "text/plain": [
       "<Figure size 432x288 with 1 Axes>"
      ]
     },
     "metadata": {},
     "output_type": "display_data"
    }
   ],
   "source": [
    "df1= (df.loc[df['house_pk'].isin([84561])])\n",
    "df1['price'].plot()    "
   ]
  },
  {
   "cell_type": "code",
   "execution_count": 38,
   "metadata": {},
   "outputs": [
    {
     "data": {
      "image/png": "[encoded data removed]",
      "text/plain": [
       "<Figure size 792x648 with 2 Axes>"
      ]
     },
     "metadata": {},
     "output_type": "display_data"
    }
   ],
   "source": [
    "# Computing the correlation matrix \n",
    "corr_all = df.corr()\n",
    "\n",
    "# Mask for the upper triangle\n",
    "mask = np.zeros_like(corr_all, dtype = np.bool)\n",
    "mask[np.triu_indices_from(mask)] = True\n",
    "\n",
    "# Heatmap with the mask and correct aspect ratio\n",
    "f, ax = plt.subplots(figsize = (11, 9))\n",
    "sns.heatmap(corr_all, mask = mask,\n",
    "            square = True, linewidths = .5, ax = ax, cmap = \"BuPu\")      \n",
    "plt.show()"
   ]
  },
  {
   "cell_type": "code",
   "execution_count": 39,
   "metadata": {},
   "outputs": [],
   "source": [
    "# Creating X and Y\n",
    "y = df['priceLog']\n",
    "X = df.drop(['price','house_pk','day_of_week','Month','priceLog'], axis=1)\n",
    "\n",
    "# Splitting the training and test\n",
    "X_train, X_test, y_train, y_test = train_test_split(X, y, test_size = 0.80,random_state=0)"
   ]
  },
  {
   "cell_type": "code",
   "execution_count": 40,
   "metadata": {},
   "outputs": [],
   "source": [
    "# Selecting the best parameter for our  Xgboost Model\n",
    "\n",
    "#booster = xgb.XGBRegressor()\n",
    "\n",
    "# create Grid\n",
    "#param_grid = {'n_estimators': [100, 150, 200, 2000],\n",
    " #             'learning_rate': [0.01, 0.05, 0.1], \n",
    "  #            'max_depth': [3, 4, 5, 6, 7],\n",
    "   #           'colsample_bytree': [0.6, 0.7, 1],\n",
    "    #          'gamma': [0.0, 0.1, 0.2]}\n",
    "\n",
    "# instantiate the tuned random forest\n",
    "\n",
    "#booster_grid_search = GridSearchCV(booster, param_grid, cv=3, n_jobs=-1)\n",
    "\n",
    "# train the tuned random forest\n",
    "#booster_grid_search.fit(X_train, y_train)\n",
    "\n",
    "# print best estimator parameters found during the grid search\n",
    "#print(booster_grid_search.best_params_)\n",
    "\n",
    "# instantiate xgboost with best parameters\n",
    "booster = xgb.XGBRegressor(colsample_bytree=0.8, gamma=0.01, learning_rate=0.05, \n",
    "                           max_depth=7, n_estimators=2000, \n",
    "                           random_state=4, silent=1, reg_lambda=0.3,\n",
    "                           nthread = -1,min_child_weight=1.8,subsample=0.5,\n",
    "                           reg_alpha=0.1)\n",
    "\n",
    "#booster = xgb.XGBRegressor(colsample_bytree=1, gamma=0.0, learning_rate=0.1, \n",
    "#                          max_depth=7, n_estimators=2000, \n",
    "#                          random_state=4, silent=1, reg_lambda=0.3,\n",
    "#                          nthread = -1,min_child_weight=1.8,subsample=0.5)\n"
   ]
  },
  {
   "cell_type": "code",
   "execution_count": 41,
   "metadata": {},
   "outputs": [
    {
     "data": {
      "text/plain": [
       "XGBRegressor(base_score=0.5, booster='gbtree', colsample_bylevel=1,\n",
       "       colsample_bytree=0.8, gamma=0.01, learning_rate=0.05,\n",
       "       max_delta_step=0, max_depth=7, min_child_weight=1.8, missing=None,\n",
       "       n_estimators=2000, n_jobs=1, nthread=-1, objective='reg:linear',\n",
       "       random_state=4, reg_alpha=0.1, reg_lambda=0.3, scale_pos_weight=1,\n",
       "       seed=None, silent=1, subsample=0.5)"
      ]
     },
     "execution_count": 41,
     "metadata": {},
     "output_type": "execute_result"
    }
   ],
   "source": [
    "# Training\n",
    "booster.fit(X_train, y_train)\n",
    "\n",
    "#Training the Final Model\n",
    "\n",
    "#booster.fit(X, y)"
   ]
  },
  {
   "cell_type": "code",
   "execution_count": 42,
   "metadata": {},
   "outputs": [],
   "source": [
    "# Predict\n",
    "##y_pred_train = booster.predict(X_train)\n",
    "y_pred_test = booster.predict(X_test)\n"
   ]
  },
  {
   "cell_type": "code",
   "execution_count": 44,
   "metadata": {},
   "outputs": [
    {
     "name": "stdout",
     "output_type": "stream",
     "text": [
      "Validation RMSE: 0.0888\n",
      "Validation MSE: 0.0079\n",
      "Validation r2: 0.9675\n"
     ]
    }
   ],
   "source": [
    "# Printing the results\n",
    "\n",
    "print(\"Validation RMSE:\", round(np.sqrt(mean_squared_error(y_test, y_pred_test)),4))\n",
    "print(\"Validation MSE:\", round(mean_squared_error(y_test, y_pred_test),4))\n",
    "print(\"Validation r2:\", round(r2_score(y_test, y_pred_test),4))"
   ]
  },
  {
   "cell_type": "code",
   "execution_count": 45,
   "metadata": {},
   "outputs": [
    {
     "data": {
      "text/plain": [
       "date_in\n",
       "2017-11-29     644.0\n",
       "2018-09-22     350.0\n",
       "2016-01-24     322.0\n",
       "2017-09-03     721.0\n",
       "2018-12-13     518.0\n",
       "2017-04-06     924.0\n",
       "2018-08-11    1337.0\n",
       "2016-12-29     448.0\n",
       "2016-03-25     826.0\n",
       "2018-12-10     434.0\n",
       "2017-02-06     315.0\n",
       "2016-10-18     490.0\n",
       "2018-04-25     630.0\n",
       "2016-03-29     518.0\n",
       "2017-06-20     252.0\n",
       "2018-09-11     217.0\n",
       "2018-12-07     518.0\n",
       "2016-06-21     301.0\n",
       "2018-06-01     371.0\n",
       "2016-05-24     350.0\n",
       "2016-07-13     700.0\n",
       "2017-09-03     294.0\n",
       "2018-04-12     875.0\n",
       "2018-07-05     609.0\n",
       "2018-09-07     399.0\n",
       "2016-05-14     231.0\n",
       "2017-10-11     203.0\n",
       "2016-12-22     392.0\n",
       "2016-09-30     868.0\n",
       "2018-02-11     420.0\n",
       "               ...  \n",
       "2016-11-12     273.0\n",
       "2016-09-24     574.0\n",
       "2019-03-05     357.0\n",
       "2019-02-18     434.0\n",
       "2018-06-22     581.0\n",
       "2016-07-16    1190.0\n",
       "2017-11-22     637.0\n",
       "2017-11-24     273.0\n",
       "2017-04-08     658.0\n",
       "2018-10-23     385.0\n",
       "2016-08-11     714.0\n",
       "2018-07-25    1946.0\n",
       "2017-07-29     882.0\n",
       "2017-04-27     399.0\n",
       "2017-03-18     350.0\n",
       "2018-09-15     973.0\n",
       "2017-06-02     917.0\n",
       "2018-12-17     411.0\n",
       "2016-03-31     938.0\n",
       "2017-01-07     469.0\n",
       "2018-08-31     434.0\n",
       "2017-10-12     420.0\n",
       "2017-12-11    1246.0\n",
       "2018-06-30     630.0\n",
       "2017-08-09     672.0\n",
       "2018-04-01    1260.0\n",
       "2017-07-13    1029.0\n",
       "2018-07-24    1078.0\n",
       "2017-05-06     238.0\n",
       "2018-12-13     406.0\n",
       "Name: priceLog, Length: 68156, dtype: float64"
      ]
     },
     "execution_count": 45,
     "metadata": {},
     "output_type": "execute_result"
    }
   ],
   "source": [
    "# Converting Log Price to Real Price\n",
    "\n",
    "np.exp(y_pred_test)\n",
    "np.exp(y_test)"
   ]
  },
  {
   "cell_type": "code",
   "execution_count": 46,
   "metadata": {},
   "outputs": [
    {
     "name": "stdout",
     "output_type": "stream",
     "text": [
      "Mean and Standard Deviation: 96.40% (0.92%)\n"
     ]
    }
   ],
   "source": [
    "# Cross Validation \n",
    "\n",
    "kfold = KFold(n_splits=10, random_state=7)\n",
    "results = cross_val_score(booster, X_train, y_train, cv=kfold)\n",
    "print(\"Mean and Standard Deviation: %.2f%% (%.2f%%)\" % (results.mean()*100, results.std()*100))"
   ]
  },
  {
   "cell_type": "code",
   "execution_count": 47,
   "metadata": {},
   "outputs": [
    {
     "data": {
      "image/png": "[encoded data removed]",
      "text/plain": [
       "<Figure size 576x1440 with 1 Axes>"
      ]
     },
     "metadata": {},
     "output_type": "display_data"
    }
   ],
   "source": [
    "# Producing a dataframe of feature importances\n",
    "ft_weights_xgb_reg = pd.DataFrame(booster.feature_importances_, columns=['weight'], index=X_train.columns)\n",
    "ft_weights_xgb_reg.sort_values('weight', inplace=True)\n",
    "\n",
    "\n",
    "# Plotting feature importances\n",
    "plt.figure(figsize=(8,20))\n",
    "plt.barh(ft_weights_xgb_reg.index, ft_weights_xgb_reg.weight, align='center') \n",
    "plt.title(\"Feature importances in the XGBoost model\", fontsize=14)\n",
    "plt.xlabel(\"Feature importance\")\n",
    "plt.margins(y=0.01)\n",
    "plt.show()"
   ]
  },
  {
   "cell_type": "code",
   "execution_count": 52,
   "metadata": {},
   "outputs": [
    {
     "data": {
      "text/plain": [
       "XGBRegressor(base_score=0.5, booster='gbtree', colsample_bylevel=1,\n",
       "       colsample_bytree=0.8, gamma=0.01, learning_rate=0.05,\n",
       "       max_delta_step=0, max_depth=7, min_child_weight=1.8, missing=None,\n",
       "       n_estimators=2000, n_jobs=1, nthread=-1, objective='reg:linear',\n",
       "       random_state=4, reg_alpha=0.1, reg_lambda=0.3, scale_pos_weight=1,\n",
       "       seed=None, silent=1, subsample=0.5)"
      ]
     },
     "execution_count": 52,
     "metadata": {},
     "output_type": "execute_result"
    }
   ],
   "source": [
    "##################Final Model#####################\n",
    "\n",
    "# All the values inside the dataset are now passed to our final model\n",
    "\n",
    "#booster.fit(X, y)\n",
    "\n",
    "# Preprocessing of the Test Data\n",
    "\n",
    "#df1 = pd.read_csv('Test.csv')\n",
    "#df1['date_in'] = pd.to_datetime(df1['date_in'])\n",
    "#df1 = df1.set_index('date_in')\n",
    "#df1['priceLog'] = np.log(df1.price)\n",
    "#df1['Year'] = df1.index.year\n",
    "#df1['Month'] = df1.index.month\n",
    "#df1['Day'] = df1.index.day\n",
    "#df1['WeekOfYear'] = df1.index.weekofyear\n",
    "#df1['RenovationDiffn'] = df1['renovation_year'] - df1['build_year'] \n",
    "#df1['PeopleInRoom'] = df1['max_persons']/df1['no_bedrooms'] \n",
    "#df1['day_of_week'] = df1.index.day_name()\n",
    "#df1['day_week'] = df1.index.dayofweek\n",
    "#y1 = df1['priceLog']\n",
    "#X1 = df1.drop(['price','house_pk','day_of_week','Month','priceLog'], axis=1)\n",
    "\n",
    "# Making the Prediction\n",
    "\n",
    "#y_pred_test1 = booster.predict(X1)\n",
    "\n",
    "# Converting Log back to Actual Price\n",
    "\n",
    "#np.exp(y_pred_test1)\n",
    "#np.exp(y1)\n",
    "\n",
    "# Final Results\n",
    "\n",
    "#print(\"Validation RMSE:\", round(np.sqrt(mean_squared_error(y1, y_pred_test1)),4))\n",
    "#print(\"Validation MSE:\", round(mean_squared_error(y1, y_pred_test1),4))\n",
    "#print(\"Validation r2:\", round(r2_score(y1, y_pred_test1),4))\n"
   ]
  },
  {
   "cell_type": "code",
   "execution_count": 26,
   "metadata": {},
   "outputs": [
    {
     "data": {
      "text/plain": [
       "<matplotlib.axes._subplots.AxesSubplot at 0x1245f7278>"
      ]
     },
     "execution_count": 26,
     "metadata": {},
     "output_type": "execute_result"
    },
    {
     "data": {
      "image/png": "[encoded data removed]",
      "text/plain": [
       "<Figure size 432x288 with 1 Axes>"
      ]
     },
     "metadata": {},
     "output_type": "display_data"
    }
   ],
   "source": [
    "#########################Time series model################################ \n",
    "\n",
    "# This model is just build to see how well the time series will perform\n",
    "#Only House_pk 84561 is taken for analysis\n",
    "        \n",
    "oyo= (df.loc[df['house_pk'].isin([84561])])\n",
    "oyo['price'].plot()\n"
   ]
  },
  {
   "cell_type": "code",
   "execution_count": null,
   "metadata": {},
   "outputs": [],
   "source": []
  },
  {
   "cell_type": "code",
   "execution_count": 27,
   "metadata": {},
   "outputs": [
    {
     "data": {
      "text/html": [
       "<div>\n",
       "<style scoped>\n",
       "    .dataframe tbody tr th:only-of-type {\n",
       "        vertical-align: middle;\n",
       "    }\n",
       "\n",
       "    .dataframe tbody tr th {\n",
       "        vertical-align: top;\n",
       "    }\n",
       "\n",
       "    .dataframe thead th {\n",
       "        text-align: right;\n",
       "    }\n",
       "</style>\n",
       "<table border=\"1\" class=\"dataframe\">\n",
       "  <thead>\n",
       "    <tr style=\"text-align: right;\">\n",
       "      <th></th>\n",
       "      <th>price</th>\n",
       "    </tr>\n",
       "    <tr>\n",
       "      <th>date_in</th>\n",
       "      <th></th>\n",
       "    </tr>\n",
       "  </thead>\n",
       "  <tbody>\n",
       "    <tr>\n",
       "      <th>2016-08-27</th>\n",
       "      <td>532</td>\n",
       "    </tr>\n",
       "    <tr>\n",
       "      <th>2016-08-26</th>\n",
       "      <td>588</td>\n",
       "    </tr>\n",
       "    <tr>\n",
       "      <th>2016-08-25</th>\n",
       "      <td>588</td>\n",
       "    </tr>\n",
       "    <tr>\n",
       "      <th>2016-08-24</th>\n",
       "      <td>588</td>\n",
       "    </tr>\n",
       "    <tr>\n",
       "      <th>2016-08-23</th>\n",
       "      <td>588</td>\n",
       "    </tr>\n",
       "  </tbody>\n",
       "</table>\n",
       "</div>"
      ],
      "text/plain": [
       "            price\n",
       "date_in          \n",
       "2016-08-27    532\n",
       "2016-08-26    588\n",
       "2016-08-25    588\n",
       "2016-08-24    588\n",
       "2016-08-23    588"
      ]
     },
     "execution_count": 27,
     "metadata": {},
     "output_type": "execute_result"
    }
   ],
   "source": [
    "oyo = oyo[['price']]\n",
    "oyo.head(5)"
   ]
  },
  {
   "cell_type": "code",
   "execution_count": 28,
   "metadata": {},
   "outputs": [],
   "source": [
    "oyo = oyo.sort_values(by='date_in')\n",
    "# Removing the duplicates\n",
    "oyo = oyo[~oyo.index.duplicated()]"
   ]
  },
  {
   "cell_type": "code",
   "execution_count": 29,
   "metadata": {},
   "outputs": [
    {
     "data": {
      "text/plain": [
       "<matplotlib.axes._subplots.AxesSubplot at 0x1247155f8>"
      ]
     },
     "execution_count": 29,
     "metadata": {},
     "output_type": "execute_result"
    },
    {
     "data": {
      "image/png": "[encoded data removed]",
      "text/plain": [
       "<Figure size 432x288 with 1 Axes>"
      ]
     },
     "metadata": {},
     "output_type": "display_data"
    }
   ],
   "source": [
    "#Adding log prices\n",
    "oyo['priceLog'] = np.log(oyo.price)\n",
    "\n",
    "#Plotting the pct change and log return\n",
    "oyo[['priceLog']].plot()"
   ]
  },
  {
   "cell_type": "code",
   "execution_count": 34,
   "metadata": {},
   "outputs": [
    {
     "data": {
      "image/png": "[encoded data removed]",
      "text/plain": [
       "<Figure size 432x288 with 1 Axes>"
      ]
     },
     "metadata": {},
     "output_type": "display_data"
    },
    {
     "name": "stdout",
     "output_type": "stream",
     "text": [
      "                              ARMA Model Results                              \n",
      "==============================================================================\n",
      "Dep. Variable:                  price   No. Observations:                 1107\n",
      "Model:                     ARMA(7, 2)   Log Likelihood               -5618.683\n",
      "Method:                       css-mle   S.D. of innovations             38.675\n",
      "Date:                Wed, 09 Oct 2019   AIC                          11259.367\n",
      "Time:                        14:08:14   BIC                          11314.470\n",
      "Sample:                             0   HQIC                         11280.206\n",
      "                                                                              \n",
      "===============================================================================\n",
      "                  coef    std err          z      P>|z|      [0.025      0.975]\n",
      "-------------------------------------------------------------------------------\n",
      "const         452.3708     49.435      9.151      0.000     355.480     549.261\n",
      "ar.L1.price    -0.4759      0.134     -3.544      0.000      -0.739      -0.213\n",
      "ar.L2.price     0.7263      0.069     10.480      0.000       0.590       0.862\n",
      "ar.L3.price     0.6396      0.110      5.807      0.000       0.424       0.855\n",
      "ar.L4.price     0.0589      0.045      1.323      0.186      -0.028       0.146\n",
      "ar.L5.price     0.0250      0.043      0.580      0.562      -0.059       0.109\n",
      "ar.L6.price    -0.0774      0.034     -2.305      0.021      -0.143      -0.012\n",
      "ar.L7.price     0.0318      0.038      0.827      0.408      -0.044       0.107\n",
      "ma.L1.price     1.4894      0.131     11.336      0.000       1.232       1.747\n",
      "ma.L2.price     0.6781      0.114      5.959      0.000       0.455       0.901\n",
      "                                    Roots                                    \n",
      "=============================================================================\n",
      "                  Real          Imaginary           Modulus         Frequency\n",
      "-----------------------------------------------------------------------------\n",
      "AR.1           -1.0137           -0.4494j            1.1088           -0.4336\n",
      "AR.2           -1.0137           +0.4494j            1.1088            0.4336\n",
      "AR.3            1.0233           -0.0000j            1.0233           -0.0000\n",
      "AR.4           -0.6349           -1.6631j            1.7802           -0.3080\n",
      "AR.5           -0.6349           +1.6631j            1.7802            0.3080\n",
      "AR.6            2.3547           -1.5333j            2.8099           -0.0919\n",
      "AR.7            2.3547           +1.5333j            2.8099            0.0919\n",
      "MA.1           -1.0982           -0.5183j            1.2144           -0.4298\n",
      "MA.2           -1.0982           +0.5183j            1.2144            0.4298\n",
      "-----------------------------------------------------------------------------\n"
     ]
    }
   ],
   "source": [
    "#Use of ARMA Model\n",
    "    \n",
    "    \n",
    "model = ARMA(oyo['price'], order=(7, 2)).fit()\n",
    "plt.plot(oyo['price'])\n",
    "plt.plot(model.fittedvalues, color='red')\n",
    "plt.title('ARMA Mean Absolute Scaled Error: %.4f'% (sum(abs(model.resid) / oyo['price'].mean()) / oyo['price'].size))\n",
    "plt.show()\n",
    "print(model.summary())"
   ]
  },
  {
   "cell_type": "code",
   "execution_count": 36,
   "metadata": {},
   "outputs": [
    {
     "name": "stdout",
     "output_type": "stream",
     "text": [
      "Test MSE: 1094.350\n"
     ]
    }
   ],
   "source": [
    "#Prediction using Arima Model\n",
    "X = oyo['price'].values\n",
    "size = int(len(X) * 0.75)\n",
    "train, test = X[0:size], X[size:len(X)]\n",
    "history = [x for x in train]\n",
    "predictions = list()\n",
    "for t in range(len(test)):\n",
    "    model = ARIMA(history, order=(7,2,0))\n",
    "    model_fit = model.fit(disp=0)\n",
    "    output = model_fit.forecast()\n",
    "    yhat = output[0]\n",
    "    predictions.append(yhat)\n",
    "    obs = test[t]\n",
    "    history.append(obs)\n",
    "    #print('predicted=%f, expected=%f' % (yhat, obs))\n",
    "error = mean_squared_error(test, predictions)\n",
    "print('Test MSE: %.3f' % error)"
   ]
  },
  {
   "cell_type": "code",
   "execution_count": 53,
   "metadata": {},
   "outputs": [
    {
     "name": "stdout",
     "output_type": "stream",
     "text": [
      "301\n"
     ]
    }
   ],
   "source": [
    "########### Question 2###########\n",
    "\n",
    "string = \"5*11-2+248\"\n",
    "type(string)\n",
    "print(eval(string))\n"
   ]
  },
  {
   "cell_type": "code",
   "execution_count": null,
   "metadata": {},
   "outputs": [],
   "source": []
  }
 ],
 "metadata": {
  "kernelspec": {
   "display_name": "Python 3",
   "language": "python",
   "name": "python3"
  },
  "language_info": {
   "codemirror_mode": {
    "name": "ipython",
    "version": 3
   },
   "file_extension": ".py",
   "mimetype": "text/x-python",
   "name": "python",
   "nbconvert_exporter": "python",
   "pygments_lexer": "ipython3",
   "version": "3.6.8"
  }
 },
 "nbformat": 4,
 "nbformat_minor": 2
}
